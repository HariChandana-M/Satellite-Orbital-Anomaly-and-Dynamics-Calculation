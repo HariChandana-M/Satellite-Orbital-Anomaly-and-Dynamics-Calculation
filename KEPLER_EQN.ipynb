{
 "cells": [
  {
   "cell_type": "code",
   "execution_count": 2,
   "metadata": {},
   "outputs": [],
   "source": [
    "import numpy as np\n"
   ]
  },
  {
   "cell_type": "code",
   "execution_count": 3,
   "metadata": {},
   "outputs": [],
   "source": [
    "G = 6.674E-11 #Gravitational const\n",
    "Me = 5.972e24 #mass of earth\n",
    "a = 25512e3 #semi major axis pf orbit\n",
    "e = 0.625647 #ecentricity\n",
    "t = 4 * 3600  #secomds\n"
   ]
  },
  {
   "cell_type": "code",
   "execution_count": 4,
   "metadata": {},
   "outputs": [],
   "source": [
    "mu_e = G * Me # to calculate the gravitational parameter of earth"
   ]
  },
  {
   "cell_type": "code",
   "execution_count": 5,
   "metadata": {},
   "outputs": [],
   "source": [
    "n = np.sqrt(mu_e/a**3) # avg angular speed of the object in its orbit"
   ]
  },
  {
   "cell_type": "code",
   "execution_count": 6,
   "metadata": {},
   "outputs": [],
   "source": [
    "M = n*t #mean anomaly "
   ]
  },
  {
   "cell_type": "code",
   "execution_count": 7,
   "metadata": {},
   "outputs": [
    {
     "name": "stdout",
     "output_type": "stream",
     "text": [
      "The mean anomaly since the periapis is 2.231rad\n"
     ]
    }
   ],
   "source": [
    "print(f\"The mean anomaly since the periapis is {round(M,3)}rad\")"
   ]
  },
  {
   "cell_type": "code",
   "execution_count": 8,
   "metadata": {},
   "outputs": [],
   "source": [
    "def kepler_eq(E,M,e):\n",
    "    return E - e*np.sin(E) - M #converting into f(x)=0\n"
   ]
  },
  {
   "cell_type": "code",
   "execution_count": 9,
   "metadata": {},
   "outputs": [],
   "source": [
    "def derivative_kepler_eq(E,e):\n",
    "    return 1-e*np.cos(E) #derivative of kepler_eqn"
   ]
  },
  {
   "cell_type": "code",
   "execution_count": 10,
   "metadata": {},
   "outputs": [],
   "source": [
    "def newton_raphson(func,dfunc,x0,eps):\n",
    "    #set up for newton raphson method\n",
    "    xn = x0\n",
    "    fn = func(xn)\n",
    "    #initialise counter loop\n",
    "    ct =1\n",
    "    #while the absolute val is not below eps, update the following parameters\n",
    "    while abs(fn)>eps:\n",
    "        xn = xn - fn/dfunc(xn)\n",
    "        fn = func(xn)\n",
    "        ct += 1\n",
    "        if ct == 100:\n",
    "            print(\"failed to converge after 100 iterations\")\n",
    "            break\n",
    "    return xn"
   ]
  },
  {
   "cell_type": "code",
   "execution_count": 11,
   "metadata": {},
   "outputs": [
    {
     "name": "stdout",
     "output_type": "stream",
     "text": [
      "4356\n"
     ]
    }
   ],
   "source": [
    "l1 = lambda x: x**2\n",
    "print(l1(66))\n"
   ]
  },
  {
   "cell_type": "code",
   "execution_count": 12,
   "metadata": {},
   "outputs": [
    {
     "name": "stdout",
     "output_type": "stream",
     "text": [
      "the eccentric annomaly at M = 2.231 is : 2.57 rad\n"
     ]
    }
   ],
   "source": [
    "#to find the eccentric anomaly\n",
    "x0 = M\n",
    "eps = 1e-6\n",
    "E = newton_raphson(func=lambda E: kepler_eq(E,M,e),\n",
    "                   dfunc=lambda E: derivative_kepler_eq(E,e),\n",
    "                   x0=x0,\n",
    "                   eps=eps)\n",
    "print(f\"the eccentric annomaly at M = {round(M,3)} is : {round(E,3)} rad\")"
   ]
  },
  {
   "cell_type": "code",
   "execution_count": 13,
   "metadata": {},
   "outputs": [
    {
     "name": "stdout",
     "output_type": "stream",
     "text": [
      "the true anomaly at the given position is 2.861 rad\n"
     ]
    }
   ],
   "source": [
    "#to find out the true anomaly \n",
    "sq_term= np.sqrt((1+e)/(1-e))\n",
    "tan_term = np.tan(E/2)\n",
    "T = 2*np.arctan(sq_term * tan_term)\n",
    "print(f\"the true anomaly at the given position is {round(T,3)} rad\")"
   ]
  },
  {
   "cell_type": "code",
   "execution_count": 14,
   "metadata": {},
   "outputs": [
    {
     "name": "stdout",
     "output_type": "stream",
     "text": [
      "Distance btwn Earth & the Sattellite at true anomaly of 2.861 is 38933.179km\n"
     ]
    }
   ],
   "source": [
    "#to determine the distance btwn earth & satellite at true anomaly\n",
    "r = a*(1-e**2)/(1+e*np.cos(T))\n",
    "print(f\"Distance btwn Earth & the Sattellite at true anomaly of {round(T,3)} is {round(r/10**3,3)}km\")"
   ]
  },
  {
   "cell_type": "code",
   "execution_count": 17,
   "metadata": {},
   "outputs": [
    {
     "name": "stdout",
     "output_type": "stream",
     "text": [
      "the velocity of satellite at distance of 38933.179 km from the earth is 2.203\n"
     ]
    }
   ],
   "source": [
    "#to determine the velocity at given position\n",
    "v = np.sqrt(mu_e*(2/r-1/a))\n",
    "print(f\"the velocity of satellite at distance of {round(r/10**3,3)} km from the earth is {round(v/10**3,3)}\")"
   ]
  },
  {
   "cell_type": "code",
   "execution_count": 16,
   "metadata": {},
   "outputs": [
    {
     "data": {
      "text/plain": [
       "161.00114043176134"
      ]
     },
     "execution_count": 16,
     "metadata": {},
     "output_type": "execute_result"
    }
   ],
   "source": [
    "2.81*180/np.pi"
   ]
  },
  {
   "cell_type": "code",
   "execution_count": null,
   "metadata": {},
   "outputs": [],
   "source": []
  }
 ],
 "metadata": {
  "kernelspec": {
   "display_name": "Python 3",
   "language": "python",
   "name": "python3"
  },
  "language_info": {
   "codemirror_mode": {
    "name": "ipython",
    "version": 3
   },
   "file_extension": ".py",
   "mimetype": "text/x-python",
   "name": "python",
   "nbconvert_exporter": "python",
   "pygments_lexer": "ipython3",
   "version": "3.12.3"
  }
 },
 "nbformat": 4,
 "nbformat_minor": 2
}
